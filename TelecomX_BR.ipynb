{ "cells": [ { "cell_type": "markdown", "metadata": { "id": "4foVEKhrlqcH" }, "source": 
[ "#📌 Extracão Este bloco de código realiza a extração e limpeza dos dados do dataset `TelecomX_Data.json`.

```python
import pandas as pd
import seaborn as sns
import matplotlib.pyplot as plt

# Carregar os dados
url = "https://raw.githubusercontent.com/ingridcristh/challenge2-data-science/refs/heads/main/TelecomX_Data.json"
df = pd.read_json(url)" ] }, { "cell_type": "code", "execution_count": null, "metadata": { "id": "1--uPM88l7JH" }, "outputs": [], "source": [] }, { "cell_type": "markdown", "metadata": { "id": "1lSZP8zmmGZu" }, "source": [ "#🔧 Transformação" ] }, { "cell_type": "code", "execution_count": null, "metadata": { "id": "bsm-WTLjmHvt" }, "outputs": [], "source": [] }, { "cell_type": "markdown", "metadata": { "id": "6XnTC2NTmMRL" }, "source": [ "#📊 Carga e análise" ] }, { "cell_type": "code", "execution_count": null, "metadata": { "id": "1jgUnLqTmPdd" }, "outputs": [], "source": [] }, { "cell_type": "markdown", "metadata": { "id": "v-WzfSvTmaw9" }, "source": [ "#📄Relatorio Final" ] }, { "cell_type": "code", "execution_count": null, "metadata": { "id": "XMTac0YJmeK9" }, "outputs": [], "source": [] } ], "metadata": { "colab": { "provenance": [] }, "kernelspec": { "display_name": "Python 3", "name": "python3" }, "language_info": { "name": "python" } }, "nbformat": 4, "nbformat_minor": 0 }
