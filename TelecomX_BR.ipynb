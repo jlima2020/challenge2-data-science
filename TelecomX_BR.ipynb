Este bloco de código realiza a extração e limpeza dos dados do dataset `TelecomX_Data.json`.

```python
import pandas as pd
import seaborn as sns
import matplotlib.pyplot as plt

# Carregar os dados
url = "https://raw.githubusercontent.com/ingridcristh/challenge2-data-science/refs/heads/main/TelecomX_Data.json"
df = pd.read_json(url)
